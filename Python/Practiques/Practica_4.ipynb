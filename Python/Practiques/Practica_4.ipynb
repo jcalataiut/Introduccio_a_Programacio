{
 "cells": [
  {
   "cell_type": "markdown",
   "metadata": {},
   "source": [
    "# Pràctica 4: els paquets <code> numpy </code> i <code> matplotlib </code>\n",
    "## 1 Els paquets <code> numpy </code> i <code> matplotlib </code> \n",
    "### 1.1 El paquet numpy\n",
    "#### 1.1.1 Matrius"
   ]
  },
  {
   "cell_type": "code",
   "execution_count": 1,
   "metadata": {},
   "outputs": [],
   "source": [
    "import numpy as np"
   ]
  },
  {
   "cell_type": "code",
   "execution_count": 2,
   "metadata": {},
   "outputs": [],
   "source": [
    "a=np.array([1,2,3])"
   ]
  },
  {
   "cell_type": "code",
   "execution_count": 3,
   "metadata": {},
   "outputs": [
    {
     "name": "stdout",
     "output_type": "stream",
     "text": [
      "(3,)\n"
     ]
    }
   ],
   "source": [
    "print(a.shape)"
   ]
  },
  {
   "cell_type": "code",
   "execution_count": 4,
   "metadata": {},
   "outputs": [
    {
     "name": "stdout",
     "output_type": "stream",
     "text": [
      "<class 'numpy.ndarray'>\n"
     ]
    }
   ],
   "source": [
    "print(type(a))"
   ]
  },
  {
   "cell_type": "code",
   "execution_count": 5,
   "metadata": {},
   "outputs": [],
   "source": [
    "b=np.array([[1,2,3],[4,5,6]])"
   ]
  },
  {
   "cell_type": "code",
   "execution_count": 6,
   "metadata": {},
   "outputs": [
    {
     "name": "stdout",
     "output_type": "stream",
     "text": [
      "[[1 2 3]\n",
      " [4 5 6]]\n"
     ]
    }
   ],
   "source": [
    "print(b)"
   ]
  },
  {
   "cell_type": "code",
   "execution_count": 7,
   "metadata": {},
   "outputs": [
    {
     "name": "stdout",
     "output_type": "stream",
     "text": [
      "(2, 3)\n"
     ]
    }
   ],
   "source": [
    "print(b.shape)"
   ]
  },
  {
   "cell_type": "code",
   "execution_count": 8,
   "metadata": {},
   "outputs": [
    {
     "name": "stdout",
     "output_type": "stream",
     "text": [
      "1 5\n"
     ]
    }
   ],
   "source": [
    "print(b[0,0],b[1,1])"
   ]
  },
  {
   "cell_type": "code",
   "execution_count": 9,
   "metadata": {},
   "outputs": [
    {
     "name": "stdout",
     "output_type": "stream",
     "text": [
      "[[0. 0. 0.]\n",
      " [0. 0. 0.]]\n"
     ]
    }
   ],
   "source": [
    "a=np.zeros((2,3))\n",
    "print(a)"
   ]
  },
  {
   "cell_type": "code",
   "execution_count": 10,
   "metadata": {},
   "outputs": [
    {
     "name": "stdout",
     "output_type": "stream",
     "text": [
      "[[1. 1.]\n",
      " [1. 1.]\n",
      " [1. 1.]]\n"
     ]
    }
   ],
   "source": [
    "b=np.ones((3,2))\n",
    "print(b)"
   ]
  },
  {
   "cell_type": "code",
   "execution_count": 11,
   "metadata": {},
   "outputs": [
    {
     "name": "stdout",
     "output_type": "stream",
     "text": [
      "[[3.14159265 3.14159265 3.14159265]\n",
      " [3.14159265 3.14159265 3.14159265]\n",
      " [3.14159265 3.14159265 3.14159265]]\n"
     ]
    }
   ],
   "source": [
    "c=np.full((3,3),np.pi)\n",
    "print(c)"
   ]
  },
  {
   "cell_type": "code",
   "execution_count": 12,
   "metadata": {},
   "outputs": [
    {
     "name": "stdout",
     "output_type": "stream",
     "text": [
      "[[3.14159265 3.14159265 3.14159265]\n",
      " [3.14159265 3.14159265 3.14159265]\n",
      " [3.14159265 3.14159265 3.14159265]]\n"
     ]
    }
   ],
   "source": [
    "d=np.pi*np.ones((3,3))\n",
    "print(d)"
   ]
  },
  {
   "cell_type": "code",
   "execution_count": 13,
   "metadata": {},
   "outputs": [
    {
     "name": "stdout",
     "output_type": "stream",
     "text": [
      "[[0. 0. 0.]\n",
      " [0. 0. 0.]\n",
      " [0. 0. 0.]]\n"
     ]
    }
   ],
   "source": [
    "print(d-c)"
   ]
  },
  {
   "cell_type": "code",
   "execution_count": 14,
   "metadata": {},
   "outputs": [
    {
     "name": "stdout",
     "output_type": "stream",
     "text": [
      "[[1 2 3]\n",
      " [4 5 6]\n",
      " [7 8 9]]\n"
     ]
    }
   ],
   "source": [
    "a=np.array([[1,2,3],[4,5,6],[7,8,9]])\n",
    "print(a)"
   ]
  },
  {
   "cell_type": "code",
   "execution_count": 15,
   "metadata": {},
   "outputs": [
    {
     "name": "stdout",
     "output_type": "stream",
     "text": [
      "[[2 3]\n",
      " [5 6]]\n"
     ]
    }
   ],
   "source": [
    "b=a[:2,1:3]\n",
    "print(b)"
   ]
  },
  {
   "cell_type": "code",
   "execution_count": 16,
   "metadata": {},
   "outputs": [],
   "source": [
    "b[1,1]=99"
   ]
  },
  {
   "cell_type": "code",
   "execution_count": 17,
   "metadata": {},
   "outputs": [
    {
     "name": "stdout",
     "output_type": "stream",
     "text": [
      "[[ 2  3]\n",
      " [ 5 99]]\n"
     ]
    }
   ],
   "source": [
    "print(b)"
   ]
  },
  {
   "cell_type": "code",
   "execution_count": 18,
   "metadata": {},
   "outputs": [
    {
     "name": "stdout",
     "output_type": "stream",
     "text": [
      "[[ 1  2  3]\n",
      " [ 4  5 99]\n",
      " [ 7  8  9]]\n"
     ]
    }
   ],
   "source": [
    "print(a)"
   ]
  },
  {
   "cell_type": "code",
   "execution_count": 19,
   "metadata": {},
   "outputs": [
    {
     "name": "stdout",
     "output_type": "stream",
     "text": [
      "1\n"
     ]
    }
   ],
   "source": [
    "c=a[0,0]\n",
    "print(c)"
   ]
  },
  {
   "cell_type": "code",
   "execution_count": 20,
   "metadata": {},
   "outputs": [
    {
     "name": "stdout",
     "output_type": "stream",
     "text": [
      "[[ 1  2  3]\n",
      " [ 4  5 99]\n",
      " [ 7  8  9]]\n"
     ]
    }
   ],
   "source": [
    "c=23\n",
    "print(a)"
   ]
  },
  {
   "cell_type": "code",
   "execution_count": 21,
   "metadata": {},
   "outputs": [
    {
     "name": "stdout",
     "output_type": "stream",
     "text": [
      "[[1]]\n"
     ]
    }
   ],
   "source": [
    "d=a[0:1,0:1]\n",
    "print(d)"
   ]
  },
  {
   "cell_type": "code",
   "execution_count": 22,
   "metadata": {},
   "outputs": [
    {
     "name": "stdout",
     "output_type": "stream",
     "text": [
      "[[23  2  3]\n",
      " [ 4  5 99]\n",
      " [ 7  8  9]]\n"
     ]
    }
   ],
   "source": [
    "d[0,0]=23\n",
    "print(a)"
   ]
  },
  {
   "cell_type": "code",
   "execution_count": 23,
   "metadata": {},
   "outputs": [],
   "source": [
    "a=np.array([[1,2,3],[4,5,6],[7,8,9]])"
   ]
  },
  {
   "cell_type": "code",
   "execution_count": 24,
   "metadata": {},
   "outputs": [],
   "source": [
    "b=np.copy(a[::,1:3])"
   ]
  },
  {
   "cell_type": "code",
   "execution_count": 25,
   "metadata": {},
   "outputs": [
    {
     "name": "stdout",
     "output_type": "stream",
     "text": [
      "a= [[1 2 3]\n",
      " [4 5 6]\n",
      " [7 8 9]]\n",
      "b= [[2 3]\n",
      " [5 6]\n",
      " [8 9]]\n"
     ]
    }
   ],
   "source": [
    "print(\"a=\", a)\n",
    "print(\"b=\", b)"
   ]
  },
  {
   "cell_type": "code",
   "execution_count": 26,
   "metadata": {},
   "outputs": [],
   "source": [
    "b[1,1]=99"
   ]
  },
  {
   "cell_type": "code",
   "execution_count": 27,
   "metadata": {},
   "outputs": [
    {
     "name": "stdout",
     "output_type": "stream",
     "text": [
      "a= [[1 2 3]\n",
      " [4 5 6]\n",
      " [7 8 9]]\n",
      "b= [[ 2  3]\n",
      " [ 5 99]\n",
      " [ 8  9]]\n"
     ]
    }
   ],
   "source": [
    "print(\"a=\",a)\n",
    "print(\"b=\", b)"
   ]
  },
  {
   "cell_type": "code",
   "execution_count": 28,
   "metadata": {},
   "outputs": [],
   "source": [
    "a=np.array([[x**2+y for x in range(5)] for y in range(4)])"
   ]
  },
  {
   "cell_type": "code",
   "execution_count": 29,
   "metadata": {},
   "outputs": [
    {
     "name": "stdout",
     "output_type": "stream",
     "text": [
      "[[ 0  1  4  9 16]\n",
      " [ 1  2  5 10 17]\n",
      " [ 2  3  6 11 18]\n",
      " [ 3  4  7 12 19]]\n"
     ]
    }
   ],
   "source": [
    "print(a)"
   ]
  },
  {
   "cell_type": "markdown",
   "metadata": {},
   "source": [
    "##### Exercici"
   ]
  },
  {
   "cell_type": "code",
   "execution_count": 30,
   "metadata": {},
   "outputs": [],
   "source": [
    "def VdM(l):\n",
    "    m=np.array([[l[j]**i for j in range(len(l))] for i in range(len(l))])\n",
    "    print(m)\n",
    "    "
   ]
  },
  {
   "cell_type": "code",
   "execution_count": 31,
   "metadata": {},
   "outputs": [
    {
     "name": "stdout",
     "output_type": "stream",
     "text": [
      "[[1 1 1]\n",
      " [1 2 3]\n",
      " [1 4 9]]\n"
     ]
    }
   ],
   "source": [
    "VdM([1,2,3])"
   ]
  },
  {
   "cell_type": "code",
   "execution_count": 76,
   "metadata": {},
   "outputs": [
    {
     "name": "stdout",
     "output_type": "stream",
     "text": [
      "[1 2 3 4 5 6 7 8 9]\n"
     ]
    }
   ],
   "source": [
    "a=np.array(list(range(1,10))); print(a)"
   ]
  },
  {
   "cell_type": "code",
   "execution_count": 32,
   "metadata": {},
   "outputs": [
    {
     "name": "stdout",
     "output_type": "stream",
     "text": [
      "[[1 2 3]\n",
      " [4 5 6]\n",
      " [7 8 9]]\n"
     ]
    }
   ],
   "source": [
    "a=np.array(list(range(1,10)))\n",
    "a.shape=(3,3)\n",
    "print(a)"
   ]
  },
  {
   "cell_type": "code",
   "execution_count": 33,
   "metadata": {},
   "outputs": [
    {
     "name": "stdout",
     "output_type": "stream",
     "text": [
      "[1 5 3]\n"
     ]
    }
   ],
   "source": [
    "print(np.array([a[0,0],a[1,1],a[0,2]]))"
   ]
  },
  {
   "cell_type": "code",
   "execution_count": 34,
   "metadata": {},
   "outputs": [
    {
     "name": "stdout",
     "output_type": "stream",
     "text": [
      "[1 5 3]\n"
     ]
    }
   ],
   "source": [
    "print(a[[0,1,0],[0,1,2]])"
   ]
  },
  {
   "cell_type": "code",
   "execution_count": 35,
   "metadata": {},
   "outputs": [
    {
     "name": "stdout",
     "output_type": "stream",
     "text": [
      "[1 5 3]\n"
     ]
    }
   ],
   "source": [
    "i=np.array([0,1,0])\n",
    "j=np.array([0,1,2])\n",
    "print(a[i,j])"
   ]
  },
  {
   "cell_type": "code",
   "execution_count": 36,
   "metadata": {},
   "outputs": [
    {
     "name": "stdout",
     "output_type": "stream",
     "text": [
      "[ 1  3  5  7  9 11 13 15 17 19]\n"
     ]
    }
   ],
   "source": [
    "a=np.arange(1,20,2)\n",
    "print(a)"
   ]
  },
  {
   "cell_type": "code",
   "execution_count": 37,
   "metadata": {},
   "outputs": [
    {
     "name": "stdout",
     "output_type": "stream",
     "text": [
      "[False False  True  True  True  True  True  True  True  True]\n"
     ]
    }
   ],
   "source": [
    "print(a>4)"
   ]
  },
  {
   "cell_type": "code",
   "execution_count": 38,
   "metadata": {},
   "outputs": [
    {
     "name": "stdout",
     "output_type": "stream",
     "text": [
      "[ 5  7  9 11 13 15 17 19]\n"
     ]
    }
   ],
   "source": [
    "print(a[a>4])"
   ]
  },
  {
   "cell_type": "code",
   "execution_count": 4,
   "metadata": {},
   "outputs": [
    {
     "name": "stdout",
     "output_type": "stream",
     "text": [
      "[[ 1  2  3  4  5]\n",
      " [ 6  7  8  9 10]\n",
      " [11 12 13 14 15]\n",
      " [16 17 18 19 20]]\n"
     ]
    }
   ],
   "source": [
    "a=np.arange(1,21)\n",
    "a.shape=(4,5)\n",
    "print(a)"
   ]
  },
  {
   "cell_type": "code",
   "execution_count": 8,
   "metadata": {},
   "outputs": [
    {
     "name": "stdout",
     "output_type": "stream",
     "text": [
      "[[16 17 18 19 20]\n",
      " [11 12 13 14 15]\n",
      " [ 6  7  8  9 10]\n",
      " [ 1  2  3  4  5]]\n"
     ]
    }
   ],
   "source": [
    "print(a[::-1,::])"
   ]
  },
  {
   "cell_type": "code",
   "execution_count": 41,
   "metadata": {},
   "outputs": [
    {
     "data": {
      "text/plain": [
       "1"
      ]
     },
     "execution_count": 41,
     "metadata": {},
     "output_type": "execute_result"
    }
   ],
   "source": [
    "np.amin(a) #retorna el nombre més petit"
   ]
  },
  {
   "cell_type": "code",
   "execution_count": 42,
   "metadata": {},
   "outputs": [
    {
     "data": {
      "text/plain": [
       "array([1, 2, 3, 4, 5])"
      ]
     },
     "execution_count": 42,
     "metadata": {},
     "output_type": "execute_result"
    }
   ],
   "source": [
    "np.amin(a,0) #retorna una array amb el mínim de cada columna"
   ]
  },
  {
   "cell_type": "code",
   "execution_count": 43,
   "metadata": {},
   "outputs": [
    {
     "data": {
      "text/plain": [
       "array([ 1,  6, 11, 16])"
      ]
     },
     "execution_count": 43,
     "metadata": {},
     "output_type": "execute_result"
    }
   ],
   "source": [
    "np.amin(a,1) #retorna una array amb el mínim de cada fila"
   ]
  },
  {
   "cell_type": "code",
   "execution_count": 44,
   "metadata": {},
   "outputs": [
    {
     "data": {
      "text/plain": [
       "20"
      ]
     },
     "execution_count": 44,
     "metadata": {},
     "output_type": "execute_result"
    }
   ],
   "source": [
    "np.amax(a)"
   ]
  },
  {
   "cell_type": "code",
   "execution_count": 45,
   "metadata": {},
   "outputs": [
    {
     "data": {
      "text/plain": [
       "array([16, 17, 18, 19, 20])"
      ]
     },
     "execution_count": 45,
     "metadata": {},
     "output_type": "execute_result"
    }
   ],
   "source": [
    "np.amax(a,0)"
   ]
  },
  {
   "cell_type": "code",
   "execution_count": 46,
   "metadata": {},
   "outputs": [
    {
     "data": {
      "text/plain": [
       "array([ 5, 10, 15, 20])"
      ]
     },
     "execution_count": 46,
     "metadata": {},
     "output_type": "execute_result"
    }
   ],
   "source": [
    "np.amax(a,1)"
   ]
  },
  {
   "cell_type": "markdown",
   "metadata": {},
   "source": [
    "##### Exercici"
   ]
  },
  {
   "cell_type": "code",
   "execution_count": 47,
   "metadata": {},
   "outputs": [
    {
     "data": {
      "text/plain": [
       "19"
      ]
     },
     "execution_count": 47,
     "metadata": {},
     "output_type": "execute_result"
    }
   ],
   "source": [
    "np.ptp(a)"
   ]
  },
  {
   "cell_type": "code",
   "execution_count": 48,
   "metadata": {},
   "outputs": [
    {
     "data": {
      "text/plain": [
       "array([15, 15, 15, 15, 15])"
      ]
     },
     "execution_count": 48,
     "metadata": {},
     "output_type": "execute_result"
    }
   ],
   "source": [
    "np.ptp(a,0)"
   ]
  },
  {
   "cell_type": "code",
   "execution_count": 49,
   "metadata": {},
   "outputs": [
    {
     "data": {
      "text/plain": [
       "array([4, 4, 4, 4])"
      ]
     },
     "execution_count": 49,
     "metadata": {},
     "output_type": "execute_result"
    }
   ],
   "source": [
    "np.ptp(a,1)"
   ]
  },
  {
   "cell_type": "code",
   "execution_count": 50,
   "metadata": {},
   "outputs": [],
   "source": [
    "def recorregut(a):\n",
    "    return np.amax(a)-np.amin(a)"
   ]
  },
  {
   "cell_type": "code",
   "execution_count": 51,
   "metadata": {},
   "outputs": [
    {
     "data": {
      "text/plain": [
       "19"
      ]
     },
     "execution_count": 51,
     "metadata": {},
     "output_type": "execute_result"
    }
   ],
   "source": [
    "recorregut(a)"
   ]
  },
  {
   "cell_type": "code",
   "execution_count": 77,
   "metadata": {},
   "outputs": [],
   "source": [
    "a=np.random.normal(0,1,10000) # Generem 10000 nombres aleatoris d'una normal amb mitjana 0 i dt 1"
   ]
  },
  {
   "cell_type": "code",
   "execution_count": 78,
   "metadata": {},
   "outputs": [],
   "source": [
    "a.shape=(100,100)"
   ]
  },
  {
   "cell_type": "code",
   "execution_count": 79,
   "metadata": {},
   "outputs": [
    {
     "name": "stdout",
     "output_type": "stream",
     "text": [
      "[[ 0.51935819 -0.94158331  1.14415309 ... -0.87167335 -0.01952604\n",
      "   2.32735255]\n",
      " [ 0.73227357  0.67582168 -2.05846705 ... -0.40122301  2.20584094\n",
      "  -1.24501017]\n",
      " [-1.24404216 -0.22348229  1.16838074 ... -1.23873728 -0.49702831\n",
      "  -1.2429922 ]\n",
      " ...\n",
      " [-0.28014243  1.41537028  1.18521841 ... -0.7890358   0.5746983\n",
      "  -0.55454814]\n",
      " [ 1.05792449 -1.52657057 -0.60093675 ...  0.57747325  1.57815809\n",
      "  -0.80586574]\n",
      " [-0.93641643 -0.61931056  1.60945276 ...  1.04394758 -1.12567261\n",
      "   0.41493954]]\n"
     ]
    }
   ],
   "source": [
    "print(a)"
   ]
  },
  {
   "cell_type": "code",
   "execution_count": 54,
   "metadata": {},
   "outputs": [
    {
     "name": "stdout",
     "output_type": "stream",
     "text": [
      "-0.008643224191981318\n"
     ]
    }
   ],
   "source": [
    "print(np.percentile(a,50))"
   ]
  },
  {
   "cell_type": "code",
   "execution_count": 55,
   "metadata": {},
   "outputs": [
    {
     "name": "stdout",
     "output_type": "stream",
     "text": [
      "-1.6429097141509066\n"
     ]
    }
   ],
   "source": [
    "print(np.percentile(a,5))"
   ]
  },
  {
   "cell_type": "code",
   "execution_count": 56,
   "metadata": {},
   "outputs": [
    {
     "name": "stdout",
     "output_type": "stream",
     "text": [
      "[-1.68316648e-01  1.13093746e-01 -2.74231210e-02  4.41069153e-02\n",
      " -2.74929667e-02 -2.55040124e-02  1.13557707e-02 -7.97773051e-02\n",
      " -1.41768539e-01  6.39402779e-02 -8.12098210e-03  1.80215920e-01\n",
      " -6.13085400e-02 -3.32465738e-02 -5.99819887e-02  1.23506190e-01\n",
      "  2.01810796e-01 -5.90165599e-02 -2.43156431e-01 -2.10010217e-01\n",
      " -1.85558721e-01  8.72365272e-02 -3.01975534e-01 -1.34179014e-02\n",
      " -1.47188862e-01  2.16307591e-01  3.11345486e-02  2.10146286e-01\n",
      " -9.50168599e-02 -4.53546749e-02  1.57587129e-01  9.31287621e-02\n",
      " -1.14005233e-01  8.48887288e-02  6.55936155e-02 -4.97937580e-02\n",
      "  3.12712774e-01  1.51345445e-01 -1.62743658e-01 -2.71389817e-01\n",
      " -5.93972670e-02  2.04546535e-01  5.04344461e-02 -4.39055806e-02\n",
      " -6.95141941e-02 -6.52361391e-02  1.13940609e-01  4.69523647e-02\n",
      " -5.23074715e-02 -4.16750320e-02 -4.15510001e-02  4.83897499e-02\n",
      "  7.66997200e-02 -3.54793344e-01 -1.86338853e-01 -1.01416940e-02\n",
      "  2.86538976e-02  7.12694501e-02 -5.99636536e-02 -2.03963723e-01\n",
      " -1.01629493e-01  3.01949138e-03 -1.14433618e-03  6.04779010e-02\n",
      "  1.18443638e-01 -1.58562828e-02  1.14794932e-01  1.60839832e-02\n",
      "  1.15822347e-01  2.10974000e-01  1.25427128e-01  1.83496596e-01\n",
      "  8.28877775e-02  4.49544295e-02 -1.18079640e-01  9.69497167e-02\n",
      "  1.40540871e-01 -7.91593379e-02  7.21822022e-02  3.28195801e-02\n",
      " -1.13744810e-01 -6.44600583e-02 -2.79900707e-02 -3.09033527e-01\n",
      " -4.76235413e-02 -1.35940469e-01 -3.34819851e-03  1.47978643e-01\n",
      "  6.50195250e-02  5.76450250e-02  2.32087744e-04 -1.43861319e-01\n",
      " -1.31711569e-01 -5.87548563e-02 -7.16553429e-02  9.27266347e-03\n",
      "  1.17981705e-01 -1.94393273e-01 -9.08271754e-02 -6.76794108e-02]\n"
     ]
    }
   ],
   "source": [
    "print(np.percentile(a,50,axis=1)) #Percentil 50 de cada fila"
   ]
  },
  {
   "cell_type": "code",
   "execution_count": 57,
   "metadata": {},
   "outputs": [
    {
     "name": "stdout",
     "output_type": "stream",
     "text": [
      "-0.0077293748333880355\n"
     ]
    }
   ],
   "source": [
    "print(np.mean(a)) #La mitjana"
   ]
  },
  {
   "cell_type": "code",
   "execution_count": 58,
   "metadata": {},
   "outputs": [
    {
     "name": "stdout",
     "output_type": "stream",
     "text": [
      "[ 0.09171902  0.12719724  0.11620196 -0.05185012 -0.02367084 -0.03417396\n",
      "  0.02199807  0.03892654  0.140668    0.00510554 -0.15714891 -0.00597382\n",
      "  0.05693441  0.13297116 -0.03495062 -0.0046965   0.08875314 -0.22055249\n",
      "  0.08452963 -0.03014865 -0.15452494  0.02812651 -0.11624447  0.01699089\n",
      " -0.07116841 -0.03113936 -0.05492229 -0.01263303 -0.03886058 -0.08992444\n",
      " -0.15741072 -0.02549802 -0.10042913  0.15248194  0.04549077  0.10972363\n",
      " -0.03409902 -0.03273341 -0.11216835 -0.06619497 -0.09755035 -0.07772438\n",
      "  0.03261476 -0.09070151  0.07018831 -0.01856461  0.04863924 -0.0496278\n",
      " -0.06657953  0.02642406 -0.1094999  -0.03457694 -0.0093937   0.11669976\n",
      "  0.17509025  0.04926523 -0.01706995  0.03019295  0.10087919 -0.00835951\n",
      " -0.06508944  0.0123156  -0.23496148 -0.04000461 -0.06857436  0.11155517\n",
      " -0.12387431  0.00567076 -0.00900803  0.18513109  0.09046682  0.1005437\n",
      " -0.05076797  0.13645644  0.08395912  0.23209555  0.01005872 -0.12578329\n",
      "  0.07618691 -0.07145279 -0.07410691  0.01547745 -0.09663689 -0.08388992\n",
      "  0.06592318  0.03439439 -0.05452328 -0.09630603  0.10219517  0.02837172\n",
      " -0.11753758 -0.11996911  0.02377493 -0.1004091   0.01776641  0.0808694\n",
      " -0.15294549 -0.15546757 -0.07154281  0.05965403]\n"
     ]
    }
   ],
   "source": [
    "print(np.mean(a,axis=0)) #La mitjana de cada columna"
   ]
  },
  {
   "cell_type": "code",
   "execution_count": 59,
   "metadata": {},
   "outputs": [
    {
     "name": "stdout",
     "output_type": "stream",
     "text": [
      "0.9952982673266008\n"
     ]
    }
   ],
   "source": [
    "print(np.std(a))"
   ]
  },
  {
   "cell_type": "code",
   "execution_count": 60,
   "metadata": {},
   "outputs": [
    {
     "name": "stdout",
     "output_type": "stream",
     "text": [
      "0.9906186409433336\n"
     ]
    }
   ],
   "source": [
    "print(np.var(a))"
   ]
  },
  {
   "cell_type": "code",
   "execution_count": 61,
   "metadata": {},
   "outputs": [
    {
     "name": "stdout",
     "output_type": "stream",
     "text": [
      "0.0\n"
     ]
    }
   ],
   "source": [
    "print(np.var(a)-np.std(a)**2)"
   ]
  },
  {
   "cell_type": "markdown",
   "metadata": {},
   "source": [
    "### 1.2 Gràfics amb <code> matplotlib.pyplot </code>"
   ]
  },
  {
   "cell_type": "code",
   "execution_count": 9,
   "metadata": {},
   "outputs": [],
   "source": [
    "import numpy as np\n",
    "import matplotlib.pyplot as plt"
   ]
  },
  {
   "cell_type": "code",
   "execution_count": 63,
   "metadata": {},
   "outputs": [
    {
     "data": {
      "image/png": "[encoded data removed]",
      "text/plain": [
       "<Figure size 432x288 with 1 Axes>"
      ]
     },
     "metadata": {
      "needs_background": "light"
     },
     "output_type": "display_data"
    }
   ],
   "source": [
    "a=np.random.normal(0,1,10000)\n",
    "plt.hist(a,bins='auto')\n",
    "plt.title('Histograma amb intèrvals automàtics')\n",
    "plt.show()"
   ]
  },
  {
   "cell_type": "markdown",
   "metadata": {},
   "source": [
    "#### 1.2.1 Exemple"
   ]
  },
  {
   "cell_type": "code",
   "execution_count": 10,
   "metadata": {},
   "outputs": [],
   "source": [
    "universitats=['UB', 'UAB', 'UPC', 'UPF', 'UdG', 'Udl', 'URV']"
   ]
  },
  {
   "cell_type": "code",
   "execution_count": 11,
   "metadata": {},
   "outputs": [],
   "source": [
    "estudiants=np.array([[27523,16919],[18529,12397],[5891,16506],[8900,6901],[7682,5775],[5077,3678],[7022,4923]])"
   ]
  },
  {
   "cell_type": "code",
   "execution_count": 12,
   "metadata": {},
   "outputs": [
    {
     "data": {
      "text/plain": [
       "array([[27523, 18529,  5891,  8900,  7682,  5077,  7022],\n",
       "       [16919, 12397, 16506,  6901,  5775,  3678,  4923]])"
      ]
     },
     "execution_count": 12,
     "metadata": {},
     "output_type": "execute_result"
    }
   ],
   "source": [
    "estudiants.transpose()"
   ]
  },
  {
   "cell_type": "code",
   "execution_count": 13,
   "metadata": {},
   "outputs": [],
   "source": [
    "estudiants=np.c_[estudiants, estudiants[::,0]+estudiants[::,1]]"
   ]
  },
  {
   "cell_type": "code",
   "execution_count": 14,
   "metadata": {},
   "outputs": [
    {
     "name": "stdout",
     "output_type": "stream",
     "text": [
      "[[27523 16919 44442]\n",
      " [18529 12397 30926]\n",
      " [ 5891 16506 22397]\n",
      " [ 8900  6901 15801]\n",
      " [ 7682  5775 13457]\n",
      " [ 5077  3678  8755]\n",
      " [ 7022  4923 11945]]\n"
     ]
    }
   ],
   "source": [
    "print(estudiants)"
   ]
  },
  {
   "cell_type": "code",
   "execution_count": 15,
   "metadata": {},
   "outputs": [
    {
     "data": {
      "text/plain": [
       "array([44442, 30926, 22397, 15801, 13457,  8755, 11945])"
      ]
     },
     "execution_count": 15,
     "metadata": {},
     "output_type": "execute_result"
    }
   ],
   "source": [
    "estudiants[::,2]"
   ]
  },
  {
   "cell_type": "code",
   "execution_count": 20,
   "metadata": {},
   "outputs": [
    {
     "data": {
      "image/png": "[encoded data removed]",
      "text/plain": [
       "<Figure size 432x288 with 1 Axes>"
      ]
     },
     "metadata": {},
     "output_type": "display_data"
    }
   ],
   "source": [
    "plt.pie(estudiants[::,2],labels=universitats, autopct='%1.1f%%', shadow=True)\n",
    "plt.title(\"Estudiants a les universitats públiques catalanes\")\n",
    "plt.axis('equal')\n",
    "plt.show()"
   ]
  },
  {
   "cell_type": "code",
   "execution_count": 22,
   "metadata": {},
   "outputs": [
    {
     "data": {
      "image/png": "[encoded data removed]",
      "text/plain": [
       "<Figure size 432x288 with 1 Axes>"
      ]
     },
     "metadata": {
      "needs_background": "light"
     },
     "output_type": "display_data"
    }
   ],
   "source": [
    "fig,ax=plt.subplots()\n",
    "index=np.arange(len(estudiants[::,0]))\n",
    "\n",
    "amplada=0.35\n",
    "opacitat=0.8\n",
    "\n",
    "dones= plt.bar(index, estudiants[::,0], amplada, alpha=opacitat, color='b', label='Dones')\n",
    "homes= plt.bar(index+amplada, estudiants[::,1], amplada, alpha=opacitat, color='g',label='Homes')\n",
    "\n",
    "plt.xlabel('Universitats')\n",
    "plt.ylabel('Estudiants')\n",
    "plt.title('Estudiants per gènere')\n",
    "plt.xticks(index+amplada/2, universitats)\n",
    "plt.legend()\n",
    "plt.tight_layout()\n",
    "plt.show()"
   ]
  },
  {
   "cell_type": "markdown",
   "metadata": {},
   "source": [
    "#### 1.2"
   ]
  },
  {
   "cell_type": "code",
   "execution_count": 72,
   "metadata": {},
   "outputs": [
    {
     "data": {
      "image/png": "[encoded data removed]",
      "text/plain": [
       "<Figure size 432x288 with 1 Axes>"
      ]
     },
     "metadata": {
      "needs_background": "light"
     },
     "output_type": "display_data"
    }
   ],
   "source": [
    "fig,ax=plt.subplots()\n",
    "index=np.arange(len(estudiants[::,0]))\n",
    "\n",
    "amplada=0.35\n",
    "opacitat=0.8\n",
    "\n",
    "dones= plt.bar(index, estudiants[::,0], amplada, alpha=opacitat, color='b', label='Dones')\n",
    "homes= plt.bar(index, estudiants[::,1], amplada, alpha=opacitat, color='g',label='Homes')\n",
    "\n",
    "plt.xlabel('Universitats')\n",
    "plt.ylabel('Estudiants')\n",
    "plt.title('Estudiants per gènere')\n",
    "plt.xticks(index+amplada/2, universitats)\n",
    "plt.legend()\n",
    "plt.tight_layout()\n",
    "plt.show()"
   ]
  },
  {
   "cell_type": "markdown",
   "metadata": {},
   "source": [
    "#### 1.2.3 Exercici"
   ]
  },
  {
   "cell_type": "code",
   "execution_count": 28,
   "metadata": {},
   "outputs": [
    {
     "data": {
      "image/png": "[encoded data removed]",
      "text/plain": [
       "<Figure size 432x288 with 1 Axes>"
      ]
     },
     "metadata": {
      "needs_background": "light"
     },
     "output_type": "display_data"
    }
   ],
   "source": [
    "fig,ax=plt.subplots()\n",
    "index=np.arange(len(estudiants[::,0]))\n",
    "\n",
    "amplada=0.35\n",
    "opacitat=0.8\n",
    "colors=['violet','green','blue','red','orange','black','grey']\n",
    "\n",
    "dones= plt.bar(index, estudiants[::,0], amplada, alpha=opacitat, color=colors, label='Dones = oscur')\n",
    "homes= plt.bar(index+amplada, estudiants[::,1], amplada, alpha=0.4, color=colors,label='Homes = clar')\n",
    "\n",
    "plt.xlabel('Universitats')\n",
    "plt.ylabel('Estudiants')\n",
    "plt.title('Estudiants per gènere')\n",
    "plt.xticks(index+amplada/2, universitats)\n",
    "plt.legend()\n",
    "plt.tight_layout()\n",
    "plt.show()"
   ]
  }
 ],
 "metadata": {
  "kernelspec": {
   "display_name": "Python 3",
   "language": "python",
   "name": "python3"
  },
  "language_info": {
   "codemirror_mode": {
    "name": "ipython",
    "version": 3
   },
   "file_extension": ".py",
   "mimetype": "text/x-python",
   "name": "python",
   "nbconvert_exporter": "python",
   "pygments_lexer": "ipython3",
   "version": "3.9.5"
  }
 },
 "nbformat": 4,
 "nbformat_minor": 4
}
