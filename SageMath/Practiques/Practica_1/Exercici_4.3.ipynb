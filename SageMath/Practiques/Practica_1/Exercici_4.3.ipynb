{
 "cells": [
  {
   "cell_type": "code",
   "execution_count": 2,
   "metadata": {},
   "outputs": [],
   "source": [
    "T=sin(3*x)-sin(7*x)"
   ]
  },
  {
   "cell_type": "markdown",
   "metadata": {},
   "source": [
    "## Mètode 1\n",
    "### simplify_trig() i reduce_trig()"
   ]
  },
  {
   "cell_type": "code",
   "execution_count": 4,
   "metadata": {
    "scrolled": false
   },
   "outputs": [
    {
     "data": {
      "text/html": [
       "<html>\\[\\newcommand{\\Bold}[1]{\\mathbf{#1}}-4 \\, {\\left(16 \\, \\cos\\left(x\\right)^{6} - 20 \\, \\cos\\left(x\\right)^{4} + 5 \\, \\cos\\left(x\\right)^{2}\\right)} \\sin\\left(x\\right)\\]</html>"
      ],
      "text/latex": [
       "$$\\newcommand{\\Bold}[1]{\\mathbf{#1}}-4 \\, {\\left(16 \\, \\cos\\left(x\\right)^{6} - 20 \\, \\cos\\left(x\\right)^{4} + 5 \\, \\cos\\left(x\\right)^{2}\\right)} \\sin\\left(x\\right)$$"
      ],
      "text/plain": [
       "-4*(16*cos(x)^6 - 20*cos(x)^4 + 5*cos(x)^2)*sin(x)"
      ]
     },
     "metadata": {},
     "output_type": "display_data"
    }
   ],
   "source": [
    "T1_1=T.simplify_trig(); show(T1_1)"
   ]
  },
  {
   "cell_type": "code",
   "execution_count": 5,
   "metadata": {},
   "outputs": [],
   "source": [
    "T1_2=T1_1.reduce_trig()"
   ]
  },
  {
   "cell_type": "code",
   "execution_count": 6,
   "metadata": {},
   "outputs": [
    {
     "data": {
      "text/html": [
       "<html>\\[\\newcommand{\\Bold}[1]{\\mathbf{#1}}-\\sin\\left(7 \\, x\\right) + \\sin\\left(3 \\, x\\right)\\]</html>"
      ],
      "text/latex": [
       "$$\\newcommand{\\Bold}[1]{\\mathbf{#1}}-\\sin\\left(7 \\, x\\right) + \\sin\\left(3 \\, x\\right)$$"
      ],
      "text/plain": [
       "-sin(7*x) + sin(3*x)"
      ]
     },
     "metadata": {},
     "output_type": "display_data"
    }
   ],
   "source": [
    "show(T1_2)"
   ]
  },
  {
   "cell_type": "markdown",
   "metadata": {},
   "source": [
    "## Mètode 2\n",
    "### expand_trig() i reduce_trig()"
   ]
  },
  {
   "cell_type": "code",
   "execution_count": 7,
   "metadata": {},
   "outputs": [
    {
     "data": {
      "text/html": [
       "<html>\\[\\newcommand{\\Bold}[1]{\\mathbf{#1}}-7 \\, \\cos\\left(x\\right)^{6} \\sin\\left(x\\right) + 35 \\, \\cos\\left(x\\right)^{4} \\sin\\left(x\\right)^{3} - 21 \\, \\cos\\left(x\\right)^{2} \\sin\\left(x\\right)^{5} + \\sin\\left(x\\right)^{7} + 3 \\, \\cos\\left(x\\right)^{2} \\sin\\left(x\\right) - \\sin\\left(x\\right)^{3}\\]</html>"
      ],
      "text/latex": [
       "$$\\newcommand{\\Bold}[1]{\\mathbf{#1}}-7 \\, \\cos\\left(x\\right)^{6} \\sin\\left(x\\right) + 35 \\, \\cos\\left(x\\right)^{4} \\sin\\left(x\\right)^{3} - 21 \\, \\cos\\left(x\\right)^{2} \\sin\\left(x\\right)^{5} + \\sin\\left(x\\right)^{7} + 3 \\, \\cos\\left(x\\right)^{2} \\sin\\left(x\\right) - \\sin\\left(x\\right)^{3}$$"
      ],
      "text/plain": [
       "-7*cos(x)^6*sin(x) + 35*cos(x)^4*sin(x)^3 - 21*cos(x)^2*sin(x)^5 + sin(x)^7 + 3*cos(x)^2*sin(x) - sin(x)^3"
      ]
     },
     "metadata": {},
     "output_type": "display_data"
    }
   ],
   "source": [
    "T2_1=T.expand_trig(); show(T2_1)"
   ]
  },
  {
   "cell_type": "code",
   "execution_count": 8,
   "metadata": {},
   "outputs": [],
   "source": [
    "T2_2=T2_1.reduce_trig()"
   ]
  },
  {
   "cell_type": "code",
   "execution_count": 9,
   "metadata": {},
   "outputs": [
    {
     "data": {
      "text/html": [
       "<html>\\[\\newcommand{\\Bold}[1]{\\mathbf{#1}}-\\sin\\left(7 \\, x\\right) + \\sin\\left(3 \\, x\\right)\\]</html>"
      ],
      "text/latex": [
       "$$\\newcommand{\\Bold}[1]{\\mathbf{#1}}-\\sin\\left(7 \\, x\\right) + \\sin\\left(3 \\, x\\right)$$"
      ],
      "text/plain": [
       "-sin(7*x) + sin(3*x)"
      ]
     },
     "metadata": {},
     "output_type": "display_data"
    }
   ],
   "source": [
    "show(T2_2)"
   ]
  }
 ],
 "metadata": {
  "kernelspec": {
   "display_name": "SageMath 9.4",
   "language": "sage",
   "name": "sagemath-9.4"
  },
  "language_info": {
   "codemirror_mode": {
    "name": "ipython",
    "version": 3
   },
   "file_extension": ".py",
   "mimetype": "text/x-python",
   "name": "python",
   "nbconvert_exporter": "python",
   "pygments_lexer": "ipython3",
   "version": "3.9.5"
  }
 },
 "nbformat": 4,
 "nbformat_minor": 4
}
