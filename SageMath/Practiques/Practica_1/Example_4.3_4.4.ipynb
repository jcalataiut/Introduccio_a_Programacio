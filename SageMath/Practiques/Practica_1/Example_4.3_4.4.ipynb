{
 "cells": [
  {
   "cell_type": "code",
   "execution_count": 1,
   "metadata": {},
   "outputs": [
    {
     "data": {
      "text/plain": [
       "2^3 * 3^7 * 11^3 * 23^4"
      ]
     },
     "execution_count": 1,
     "metadata": {},
     "output_type": "execute_result"
    }
   ],
   "source": [
    "factor(6516706619016)"
   ]
  },
  {
   "cell_type": "code",
   "execution_count": 2,
   "metadata": {},
   "outputs": [
    {
     "data": {
      "text/plain": [
       "(3*x + 2)*(x - 4)"
      ]
     },
     "execution_count": 2,
     "metadata": {},
     "output_type": "execute_result"
    }
   ],
   "source": [
    "factor(3*x^2-10*x-8)"
   ]
  },
  {
   "cell_type": "code",
   "execution_count": 3,
   "metadata": {},
   "outputs": [],
   "source": [
    "p=expand((x^2-sqrt(2)*x+1)*(x^2+sqrt(2)+1))"
   ]
  },
  {
   "cell_type": "code",
   "execution_count": 5,
   "metadata": {},
   "outputs": [
    {
     "data": {
      "text/html": [
       "<html>\\[\\newcommand{\\Bold}[1]{\\mathbf{#1}}x^{4} - \\sqrt{2} x^{3} + \\sqrt{2} x^{2} + 2 \\, x^{2} - \\sqrt{2} x - 2 \\, x + \\sqrt{2} + 1\\]</html>"
      ],
      "text/latex": [
       "$$\\newcommand{\\Bold}[1]{\\mathbf{#1}}x^{4} - \\sqrt{2} x^{3} + \\sqrt{2} x^{2} + 2 \\, x^{2} - \\sqrt{2} x - 2 \\, x + \\sqrt{2} + 1$$"
      ],
      "text/plain": [
       "x^4 - sqrt(2)*x^3 + sqrt(2)*x^2 + 2*x^2 - sqrt(2)*x - 2*x + sqrt(2) + 1"
      ]
     },
     "metadata": {},
     "output_type": "display_data"
    }
   ],
   "source": [
    "show(p)"
   ]
  },
  {
   "cell_type": "code",
   "execution_count": 4,
   "metadata": {},
   "outputs": [
    {
     "data": {
      "text/plain": [
       "x^4 - sqrt(2)*x^3 + sqrt(2)*x^2 + 2*x^2 - sqrt(2)*x - 2*x + sqrt(2) + 1"
      ]
     },
     "execution_count": 4,
     "metadata": {},
     "output_type": "execute_result"
    }
   ],
   "source": [
    "factor(p)"
   ]
  }
 ],
 "metadata": {
  "kernelspec": {
   "display_name": "SageMath 9.4",
   "language": "sage",
   "name": "sagemath-9.4"
  },
  "language_info": {
   "codemirror_mode": {
    "name": "ipython",
    "version": 3
   },
   "file_extension": ".py",
   "mimetype": "text/x-python",
   "name": "python",
   "nbconvert_exporter": "python",
   "pygments_lexer": "ipython3",
   "version": "3.9.5"
  }
 },
 "nbformat": 4,
 "nbformat_minor": 4
}
